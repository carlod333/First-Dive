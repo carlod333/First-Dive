{
  "nbformat": 4,
  "nbformat_minor": 0,
  "metadata": {
    "colab": {
      "provenance": [],
      "machine_shape": "hm"
    },
    "kernelspec": {
      "name": "python3",
      "display_name": "Python 3"
    },
    "language_info": {
      "name": "python"
    }
  },
  "cells": [
    {
      "cell_type": "code",
      "source": [
        "import pandas as pd\n",
        "from google.colab import drive\n",
        "drive.mount('/content/drive')"
      ],
      "metadata": {
        "colab": {
          "base_uri": "https://localhost:8080/"
        },
        "id": "LyG1qRJrubfH",
        "outputId": "c2685f51-344c-482e-c66e-830735883796"
      },
      "execution_count": null,
      "outputs": [
        {
          "output_type": "stream",
          "name": "stdout",
          "text": [
            "Mounted at /content/drive\n"
          ]
        }
      ]
    },
    {
      "cell_type": "code",
      "execution_count": null,
      "metadata": {
        "colab": {
          "base_uri": "https://localhost:8080/"
        },
        "id": "YW8ZZ7igyme-",
        "outputId": "5c59d731-561e-4872-d1fe-e98c801aceef"
      },
      "outputs": [
        {
          "output_type": "stream",
          "name": "stdout",
          "text": [
            "Collecting openpolicedata\n",
            "  Downloading openpolicedata-0.6-py3-none-any.whl (99 kB)\n",
            "\u001b[?25l     \u001b[90m━━━━━━━━━━━━━━━━━━━━━━━━━━━━━━━━━━━━━━━━\u001b[0m \u001b[32m0.0/99.4 kB\u001b[0m \u001b[31m?\u001b[0m eta \u001b[36m-:--:--\u001b[0m\r\u001b[2K     \u001b[91m━━━━━━━━━━━━━━━━━━━━━━━━━━━━━━━━━━━━━\u001b[0m\u001b[90m╺\u001b[0m\u001b[90m━━\u001b[0m \u001b[32m92.2/99.4 kB\u001b[0m \u001b[31m3.0 MB/s\u001b[0m eta \u001b[36m0:00:01\u001b[0m\r\u001b[2K     \u001b[90m━━━━━━━━━━━━━━━━━━━━━━━━━━━━━━━━━━━━━━━━\u001b[0m \u001b[32m99.4/99.4 kB\u001b[0m \u001b[31m2.5 MB/s\u001b[0m eta \u001b[36m0:00:00\u001b[0m\n",
            "\u001b[?25hRequirement already satisfied: openpyxl in /usr/local/lib/python3.10/dist-packages (from openpolicedata) (3.1.2)\n",
            "Requirement already satisfied: numpy in /usr/local/lib/python3.10/dist-packages (from openpolicedata) (1.25.2)\n",
            "Requirement already satisfied: packaging in /usr/local/lib/python3.10/dist-packages (from openpolicedata) (24.0)\n",
            "Requirement already satisfied: pandas<3.0.0 in /usr/local/lib/python3.10/dist-packages (from openpolicedata) (1.5.3)\n",
            "Requirement already satisfied: requests in /usr/local/lib/python3.10/dist-packages (from openpolicedata) (2.31.0)\n",
            "Collecting sodapy (from openpolicedata)\n",
            "  Downloading sodapy-2.2.0-py2.py3-none-any.whl (15 kB)\n",
            "Requirement already satisfied: tqdm in /usr/local/lib/python3.10/dist-packages (from openpolicedata) (4.66.2)\n",
            "Requirement already satisfied: typing-extensions in /usr/local/lib/python3.10/dist-packages (from openpolicedata) (4.10.0)\n",
            "Requirement already satisfied: xlrd in /usr/local/lib/python3.10/dist-packages (from openpolicedata) (2.0.1)\n",
            "Requirement already satisfied: python-dateutil>=2.8.1 in /usr/local/lib/python3.10/dist-packages (from pandas<3.0.0->openpolicedata) (2.8.2)\n",
            "Requirement already satisfied: pytz>=2020.1 in /usr/local/lib/python3.10/dist-packages (from pandas<3.0.0->openpolicedata) (2023.4)\n",
            "Requirement already satisfied: et-xmlfile in /usr/local/lib/python3.10/dist-packages (from openpyxl->openpolicedata) (1.1.0)\n",
            "Requirement already satisfied: charset-normalizer<4,>=2 in /usr/local/lib/python3.10/dist-packages (from requests->openpolicedata) (3.3.2)\n",
            "Requirement already satisfied: idna<4,>=2.5 in /usr/local/lib/python3.10/dist-packages (from requests->openpolicedata) (3.6)\n",
            "Requirement already satisfied: urllib3<3,>=1.21.1 in /usr/local/lib/python3.10/dist-packages (from requests->openpolicedata) (2.0.7)\n",
            "Requirement already satisfied: certifi>=2017.4.17 in /usr/local/lib/python3.10/dist-packages (from requests->openpolicedata) (2024.2.2)\n",
            "Requirement already satisfied: six>=1.5 in /usr/local/lib/python3.10/dist-packages (from python-dateutil>=2.8.1->pandas<3.0.0->openpolicedata) (1.16.0)\n",
            "Installing collected packages: sodapy, openpolicedata\n",
            "Successfully installed openpolicedata-0.6 sodapy-2.2.0\n"
          ]
        }
      ],
      "source": [
        "!pip install openpolicedata"
      ]
    },
    {
      "cell_type": "code",
      "source": [
        "import openpolicedata as opd"
      ],
      "metadata": {
        "id": "yhUtAVbh0437"
      },
      "execution_count": null,
      "outputs": []
    },
    {
      "cell_type": "code",
      "source": [
        "df = opd.datasets.query(table_type='TRAFFIC STOPS', state=\"Florida\")"
      ],
      "metadata": {
        "id": "5CbntSYO1WS8"
      },
      "execution_count": null,
      "outputs": []
    },
    {
      "cell_type": "code",
      "source": [
        "src = opd.Source(source_name=\"State Patrol\", state=\"Florida\")"
      ],
      "metadata": {
        "id": "kjwIWIIc3R5m"
      },
      "execution_count": null,
      "outputs": []
    },
    {
      "cell_type": "code",
      "source": [
        "types = src.get_tables_types()\n",
        "years = src.get_years(table_type=types[0])"
      ],
      "metadata": {
        "id": "Rni8N_bEokSu"
      },
      "execution_count": null,
      "outputs": []
    },
    {
      "cell_type": "code",
      "source": [
        "t = src.load(year = print(years), table_type='TRAFFIC STOPS') # takes 2-4mins"
      ],
      "metadata": {
        "colab": {
          "base_uri": "https://localhost:8080/"
        },
        "id": "reqleQWA30Zz",
        "outputId": "1593416f-b60a-4415-d715-94160b885312"
      },
      "execution_count": null,
      "outputs": [
        {
          "output_type": "stream",
          "name": "stdout",
          "text": [
            "[2010, 2011, 2012, 2013, 2014, 2015, 2016, 2017, 2018]\n"
          ]
        },
        {
          "output_type": "stream",
          "name": "stderr",
          "text": []
        }
      ]
    },
    {
      "cell_type": "code",
      "source": [
        "df_final = t.table"
      ],
      "metadata": {
        "id": "50XRtiXQ4Vc6"
      },
      "execution_count": null,
      "outputs": []
    },
    {
      "cell_type": "code",
      "source": [
        "df_final_sub = df_final[ df_final[\"county_name\"]==\"Miami-Dade County\" ]"
      ],
      "metadata": {
        "id": "XzGgGQCn5QK1"
      },
      "execution_count": null,
      "outputs": []
    },
    {
      "cell_type": "code",
      "source": [
        "# save df_final_sub to csv and export to personal google drive\n",
        "df_final_sub.to_csv('/content/drive/My Drive/miami_dade_county_stops.csv', index=False)"
      ],
      "metadata": {
        "id": "4i7COm4B5npo"
      },
      "execution_count": null,
      "outputs": []
    }
  ]
}